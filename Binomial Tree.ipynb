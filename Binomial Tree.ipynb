{
  "nbformat": 4,
  "nbformat_minor": 0,
  "metadata": {
    "colab": {
      "provenance": []
    },
    "kernelspec": {
      "name": "python3",
      "display_name": "Python 3"
    },
    "language_info": {
      "name": "python"
    }
  },
  "cells": [
    {
      "cell_type": "markdown",
      "source": [
        "**SIMULATING STOCK AND CALL OPTION PAYOFF USING BINOMIAL TREE**"
      ],
      "metadata": {
        "id": "n2SosmYpEtcY"
      }
    },
    {
      "cell_type": "code",
      "execution_count": 1,
      "metadata": {
        "id": "LyCRFeSVBARF"
      },
      "outputs": [],
      "source": [
        "import numpy as np"
      ]
    },
    {
      "cell_type": "code",
      "source": [
        "def binomial_tree(S_ini, K, T, u, d, N):\n",
        "    C = np.zeros([N+1, N+1]) # Call Price\n",
        "    S = np.zeros([N + 1, N + 1])  # Underlying price\n",
        "    for i in range(0, N + 1):\n",
        "        C[N, i] = max(S_ini * (u ** (i)) * (d ** (N - i)) - K, 0)\n",
        "        S[N, i] = S_ini * (u ** (i)) * (d ** (N - i))\n",
        "    for j in range(N - 1, -1, -1):\n",
        "        for i in range(0, j + 1):\n",
        "            S[j, i] = S_ini * (u ** (i)) * (d ** (j - i))\n",
        "    return S, C"
      ],
      "metadata": {
        "id": "0CnA0xrMB-ks"
      },
      "execution_count": 11,
      "outputs": []
    },
    {
      "cell_type": "code",
      "source": [
        "Stock2, Call2 = binomial_tree(100, 90, 10, 1.2, 0.8, 10)\n",
        "print(\"Underlying Price Evolution:\\n\", Stock2)\n",
        "print(\"Call Option Payoff:\\n\", Call2)"
      ],
      "metadata": {
        "colab": {
          "base_uri": "https://localhost:8080/"
        },
        "id": "AtnHQamhCGGc",
        "outputId": "932f7373-0edd-485f-9376-1c817ec04fa4"
      },
      "execution_count": 13,
      "outputs": [
        {
          "output_type": "stream",
          "name": "stdout",
          "text": [
            "Underlying Price Evolution:\n",
            " [[100.           0.           0.           0.           0.\n",
            "    0.           0.           0.           0.           0.\n",
            "    0.        ]\n",
            " [ 80.         120.           0.           0.           0.\n",
            "    0.           0.           0.           0.           0.\n",
            "    0.        ]\n",
            " [ 64.          96.         144.           0.           0.\n",
            "    0.           0.           0.           0.           0.\n",
            "    0.        ]\n",
            " [ 51.2         76.8        115.2        172.8          0.\n",
            "    0.           0.           0.           0.           0.\n",
            "    0.        ]\n",
            " [ 40.96        61.44        92.16       138.24       207.36\n",
            "    0.           0.           0.           0.           0.\n",
            "    0.        ]\n",
            " [ 32.768       49.152       73.728      110.592      165.888\n",
            "  248.832        0.           0.           0.           0.\n",
            "    0.        ]\n",
            " [ 26.2144      39.3216      58.9824      88.4736     132.7104\n",
            "  199.0656     298.5984       0.           0.           0.\n",
            "    0.        ]\n",
            " [ 20.97152     31.45728     47.18592     70.77888    106.16832\n",
            "  159.25248    238.87872    358.31808      0.           0.\n",
            "    0.        ]\n",
            " [ 16.777216    25.165824    37.748736    56.623104    84.934656\n",
            "  127.401984   191.102976   286.654464   429.981696     0.\n",
            "    0.        ]\n",
            " [ 13.4217728   20.1326592   30.1989888   45.2984832   67.9477248\n",
            "  101.9215872  152.8823808  229.3235712  343.9853568  515.9780352\n",
            "    0.        ]\n",
            " [ 10.73741824  16.10612736  24.15919104  36.23878656  54.35817984\n",
            "   81.53726976 122.30590464 183.45885696 275.18828544 412.78242816\n",
            "  619.17364224]]\n",
            "Call Option Payoff:\n",
            " [[  0.           0.           0.           0.           0.\n",
            "    0.           0.           0.           0.           0.\n",
            "    0.        ]\n",
            " [  0.           0.           0.           0.           0.\n",
            "    0.           0.           0.           0.           0.\n",
            "    0.        ]\n",
            " [  0.           0.           0.           0.           0.\n",
            "    0.           0.           0.           0.           0.\n",
            "    0.        ]\n",
            " [  0.           0.           0.           0.           0.\n",
            "    0.           0.           0.           0.           0.\n",
            "    0.        ]\n",
            " [  0.           0.           0.           0.           0.\n",
            "    0.           0.           0.           0.           0.\n",
            "    0.        ]\n",
            " [  0.           0.           0.           0.           0.\n",
            "    0.           0.           0.           0.           0.\n",
            "    0.        ]\n",
            " [  0.           0.           0.           0.           0.\n",
            "    0.           0.           0.           0.           0.\n",
            "    0.        ]\n",
            " [  0.           0.           0.           0.           0.\n",
            "    0.           0.           0.           0.           0.\n",
            "    0.        ]\n",
            " [  0.           0.           0.           0.           0.\n",
            "    0.           0.           0.           0.           0.\n",
            "    0.        ]\n",
            " [  0.           0.           0.           0.           0.\n",
            "    0.           0.           0.           0.           0.\n",
            "    0.        ]\n",
            " [  0.           0.           0.           0.           0.\n",
            "    0.          32.30590464  93.45885696 185.18828544 322.78242816\n",
            "  529.17364224]]\n"
          ]
        }
      ]
    }
  ]
}